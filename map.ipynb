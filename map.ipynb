{
 "cells": [
  {
   "cell_type": "code",
   "execution_count": null,
   "metadata": {},
   "outputs": [],
   "source": [
    "%pip install pandas\n",
    "%pip install gradio\n",
    "%pip install folium\n",
    "%pip install geopy"
   ]
  },
  {
   "cell_type": "code",
   "execution_count": null,
   "metadata": {},
   "outputs": [],
   "source": [
    "import pandas as pd\n",
    "import gradio as gr\n",
    "import folium\n",
    "from folium.plugins import MarkerCluster\n",
    "from geopy.distance import geodesic\n",
    "\n",
    "#데이터 로드\n",
    "\n",
    "# 데이터프레임 로드\n",
    "APT = pd.read_csv(r\"./export/safety/apartSafetyTrained.csv\")\n",
    "APT = APT.dropna(subset=['lat', 'lon'])\n",
    "\n",
    "# 교육시설 데이터 로드\n",
    "EDU = pd.read_csv('./export/education/final_graded_school_locations.csv')\n",
    "EDU = EDU[['cluster'\t,'DistanceToCenter'\t,'등급','학교명','조사년도','개방ID','lat','lon','score']]\n",
    "EDU = EDU.rename(columns={'등급': 'class'})\n",
    "EDU = EDU.dropna(subset=['lat','lon'])\n",
    "\n",
    "Medicals = pd.read_csv('./export/hospital/hospitalOutput.csv')\n",
    "Medicals = Medicals[['암호화요양기호','요양기관명','cluster','DistanceToCenter','score','class','lat','lon']]\n",
    "Medicals =  Medicals.dropna(subset=['lat','lon','score'])\n",
    "\n",
    "policeFacilities = pd.read_csv('./export/safety/policeOutput.csv')\n",
    "policeFacilities =  policeFacilities.dropna(subset=['lat','lon'])\n",
    "policeFacilities = policeFacilities.rename(columns={'구분': 'class'})\n",
    "policeFacilities['score'] = policeFacilities['class'] \n",
    "\n",
    "fireCentor = pd.read_csv('./export/safety/filtered_safety_center_data_seoul.csv')\n",
    "fireCentor = fireCentor.dropna(subset=['lat','lon'])\n",
    "fireCentor = fireCentor.rename(columns={'구분': 'class'})\n",
    "fireCentor['score'] = fireCentor['class'] \n",
    "\n",
    "# 서울시의 구 목록\n",
    "districts = APT['주소(시군구)'].unique().tolist()\n"
   ]
  },
  {
   "cell_type": "code",
   "execution_count": null,
   "metadata": {},
   "outputs": [
    {
     "name": "stdout",
     "output_type": "stream",
     "text": [
      "<gradio.components.dropdown.Dropdown object at 0x00000187EC039600>\n",
      "<gradio.components.dropdown.Dropdown object at 0x00000187EC039600>\n",
      "* Running on local URL:  http://127.0.0.1:7893\n",
      "* Running on public URL: https://d99f3cc15e6adc698f.gradio.live\n",
      "\n",
      "This share link expires in 72 hours. For free permanent hosting and GPU upgrades, run `gradio deploy` from the terminal in the working directory to deploy to Hugging Face Spaces (https://huggingface.co/spaces)\n"
     ]
    },
    {
     "data": {
      "text/html": [
       "<div><iframe src=\"https://d99f3cc15e6adc698f.gradio.live\" width=\"100%\" height=\"500\" allow=\"autoplay; camera; microphone; clipboard-read; clipboard-write;\" frameborder=\"0\" allowfullscreen></iframe></div>"
      ],
      "text/plain": [
       "<IPython.core.display.HTML object>"
      ]
     },
     "metadata": {},
     "output_type": "display_data"
    },
    {
     "data": {
      "text/plain": []
     },
     "execution_count": 43,
     "metadata": {},
     "output_type": "execute_result"
    }
   ],
   "source": [
    "#UI 작동\n",
    "\n",
    "\n",
    "\n",
    "# 선택한 구의 아파트 목록을 가져오는 함수\n",
    "def get_apartments(selected_district):\n",
    "    filtered_apartments = APT[APT['주소(시군구)'] == selected_district]\n",
    "    apartment_names = filtered_apartments['k-아파트명'].unique().tolist()\n",
    "    return gr.Dropdown(choices=apartment_names , label=\"아파트 선택\", interactive=True)\n",
    " # set_choices 사용\n",
    "\n",
    "# 아파트 주변 1km 이내 교육시설 필터링 및 추가\n",
    "def CreateMarker(m,apartment_location,nameTag,df,fileName = None):\n",
    "    nearby_Cols = []\n",
    "\n",
    "    for _, row in df.iterrows():\n",
    "        locations = [row['lat'], row['lon']]\n",
    "        distance = geodesic(apartment_location, locations).km\n",
    "        if distance < 3:\n",
    "            nearby_Cols.append({\n",
    "                \"name\": row[nameTag],\n",
    "                \"location\": locations,\n",
    "                \"distance\": distance,\n",
    "                'class' : int(row['class']),\n",
    "                'score' : row['score']\n",
    "            })\n",
    "\n",
    "    \n",
    "\n",
    "    for now in nearby_Cols:\n",
    "        myIcon = None\n",
    "        if fileName is None:\n",
    "            colors = ['yellow','green','blue']\n",
    "            myIcon = folium.Icon(icon=\"circle\", color='gray', icon_size=(20, 20))\n",
    "        else :\n",
    "            icon_path = f'./icon/{fileName}{str(now[\"class\"])}.png'  # Correct string interpolation\n",
    "            myIcon = folium.CustomIcon(icon_path, icon_size=(35, 30)) \n",
    "          \n",
    "        \n",
    "        folium.Marker(\n",
    "            location=now['location'],\n",
    "            popup=f\"{now['name']} ({now['distance']:.2f} km) ({now['score']})\",\n",
    "            icon= myIcon\n",
    "        ).add_to(m)\n",
    "# 선택된 아파트 주변의 교육시설과 아파트 위치를 지도에 표시하는 함수\n",
    "def OnChange(selected_district, selected_apartment):\n",
    "    # 선택된 아파트 데이터 필터링\n",
    "    filtered_apartments = APT[(APT['주소(시군구)'] == selected_district) & (APT['k-아파트명'] == selected_apartment)]\n",
    "    if filtered_apartments.empty:\n",
    "        return \"아파트 정보를 찾을 수 없습니다.\"\n",
    "\n",
    "    apartment_row = filtered_apartments.iloc[0]\n",
    "    apartment_location = [apartment_row['lat'], apartment_row['lon']]\n",
    "\n",
    "    # 지도 초기화 (아파트 위치로 중심 설정)\n",
    "    m = folium.Map(location=apartment_location, zoom_start=15)\n",
    "    marker_cluster = MarkerCluster().add_to(m)\n",
    "\n",
    "    # 아파트 마커 추가\n",
    "    folium.Marker(\n",
    "        location=apartment_location,\n",
    "        popup=f\"{selected_apartment} (아파트)\",\n",
    "        icon=folium.Icon(color='red')\n",
    "    ).add_to(marker_cluster)\n",
    "    #CreateEdu(m,apartment_location)\n",
    "    CreateMarker(m,apartment_location,'학교명',EDU,'study')\n",
    "    CreateMarker(m,apartment_location,'요양기관명',Medicals,'medical')\n",
    "    CreateMarker(m,apartment_location,'k-아파트명',APT,'home')\n",
    "    CreateMarker(m,apartment_location,'이름',policeFacilities,'police')\n",
    "\n",
    "    \n",
    "    return m._repr_html_()\n",
    "\n",
    "# Gradio 인터페이스 구성\n",
    "with gr.Blocks() as iface:\n",
    "    gr.Markdown(\"## 서울시 아파트 지도\")\n",
    "    \n",
    "    # 구 선택 드롭다운\n",
    "    district_dropdown = gr.Dropdown(choices=districts, label=\"구 선택\")\n",
    "    print(district_dropdown)\n",
    "    apartment_dropdown = gr.Dropdown(choices=[], label=\"아파트 선택\", interactive=True)\n",
    "\n",
    "    # 지도 출력\n",
    "    map_output = gr.HTML(label=\"서울시 아파트 지도\")\n",
    "    \n",
    "    # 구 선택 시 아파트 목록 업데이트\n",
    "    district_dropdown.change(\n",
    "        fn=get_apartments,\n",
    "        inputs=district_dropdown,\n",
    "        outputs=apartment_dropdown\n",
    "    )\n",
    "    print(district_dropdown)\n",
    "    # 아파트 선택 시 지도 업데이트\n",
    "    apartment_dropdown.change(fn=OnChange, inputs=[district_dropdown, apartment_dropdown], outputs=map_output)\n",
    "    live = True\n",
    "    # 설명 추가\n",
    "    gr.Markdown(\"구를 선택한 후 아파트를 선택하면 해당 아파트와 주변 교육시설이 지도에 표시됩니다.\")\n",
    "\n",
    "# Gradio 인터페이스 실행\n",
    "iface.launch(share=True)\n"
   ]
  },
  {
   "cell_type": "code",
   "execution_count": null,
   "metadata": {},
   "outputs": [],
   "source": []
  },
  {
   "cell_type": "code",
   "execution_count": 4,
   "metadata": {},
   "outputs": [
    {
     "name": "stdout",
     "output_type": "stream",
     "text": [
      "Requirement already satisfied: gradio in c:\\users\\fenpon\\appdata\\local\\programs\\python\\python310\\lib\\site-packages (5.5.0)Note: you may need to restart the kernel to use updated packages.\n"
     ]
    },
    {
     "name": "stderr",
     "output_type": "stream",
     "text": [
      "WARNING: You are using pip version 21.2.3; however, version 24.3.1 is available.\n",
      "You should consider upgrading via the 'c:\\Users\\fenpon\\AppData\\Local\\Programs\\Python\\Python310\\python.exe -m pip install --upgrade pip' command.\n"
     ]
    },
    {
     "name": "stdout",
     "output_type": "stream",
     "text": [
      "\n",
      "Requirement already satisfied: starlette<1.0,>=0.40.0 in c:\\users\\fenpon\\appdata\\local\\programs\\python\\python310\\lib\\site-packages (from gradio) (0.41.2)\n",
      "Requirement already satisfied: typing-extensions~=4.0 in c:\\users\\fenpon\\appdata\\roaming\\python\\python310\\site-packages (from gradio) (4.12.2)\n",
      "Requirement already satisfied: pydub in c:\\users\\fenpon\\appdata\\local\\programs\\python\\python310\\lib\\site-packages (from gradio) (0.25.1)\n",
      "Requirement already satisfied: semantic-version~=2.0 in c:\\users\\fenpon\\appdata\\local\\programs\\python\\python310\\lib\\site-packages (from gradio) (2.10.0)\n",
      "Requirement already satisfied: pandas<3.0,>=1.0 in c:\\users\\fenpon\\appdata\\local\\programs\\python\\python310\\lib\\site-packages (from gradio) (2.2.3)\n",
      "Requirement already satisfied: numpy<3.0,>=1.0 in c:\\users\\fenpon\\appdata\\local\\programs\\python\\python310\\lib\\site-packages (from gradio) (2.1.2)\n",
      "Requirement already satisfied: gradio-client==1.4.2 in c:\\users\\fenpon\\appdata\\local\\programs\\python\\python310\\lib\\site-packages (from gradio) (1.4.2)\n",
      "Requirement already satisfied: typer<1.0,>=0.12 in c:\\users\\fenpon\\appdata\\local\\programs\\python\\python310\\lib\\site-packages (from gradio) (0.12.5)\n",
      "Requirement already satisfied: tomlkit==0.12.0 in c:\\users\\fenpon\\appdata\\local\\programs\\python\\python310\\lib\\site-packages (from gradio) (0.12.0)\n",
      "Requirement already satisfied: pillow<12.0,>=8.0 in c:\\users\\fenpon\\appdata\\local\\programs\\python\\python310\\lib\\site-packages (from gradio) (11.0.0)\n",
      "Requirement already satisfied: httpx>=0.24.1 in c:\\users\\fenpon\\appdata\\local\\programs\\python\\python310\\lib\\site-packages (from gradio) (0.27.2)\n",
      "Requirement already satisfied: aiofiles<24.0,>=22.0 in c:\\users\\fenpon\\appdata\\local\\programs\\python\\python310\\lib\\site-packages (from gradio) (23.2.1)\n",
      "Requirement already satisfied: fastapi<1.0,>=0.115.2 in c:\\users\\fenpon\\appdata\\local\\programs\\python\\python310\\lib\\site-packages (from gradio) (0.115.4)\n",
      "Requirement already satisfied: safehttpx<1.0,>=0.1.1 in c:\\users\\fenpon\\appdata\\local\\programs\\python\\python310\\lib\\site-packages (from gradio) (0.1.1)\n",
      "Requirement already satisfied: anyio<5.0,>=3.0 in c:\\users\\fenpon\\appdata\\local\\programs\\python\\python310\\lib\\site-packages (from gradio) (4.6.2.post1)\n",
      "Requirement already satisfied: markupsafe~=2.0 in c:\\users\\fenpon\\appdata\\local\\programs\\python\\python310\\lib\\site-packages (from gradio) (2.1.5)\n",
      "Requirement already satisfied: pyyaml<7.0,>=5.0 in c:\\users\\fenpon\\appdata\\local\\programs\\python\\python310\\lib\\site-packages (from gradio) (6.0.2)\n",
      "Requirement already satisfied: huggingface-hub>=0.25.1 in c:\\users\\fenpon\\appdata\\local\\programs\\python\\python310\\lib\\site-packages (from gradio) (0.26.2)\n",
      "Requirement already satisfied: pydantic>=2.0 in c:\\users\\fenpon\\appdata\\local\\programs\\python\\python310\\lib\\site-packages (from gradio) (2.9.2)\n",
      "Requirement already satisfied: jinja2<4.0 in c:\\users\\fenpon\\appdata\\local\\programs\\python\\python310\\lib\\site-packages (from gradio) (3.1.4)\n",
      "Requirement already satisfied: python-multipart==0.0.12 in c:\\users\\fenpon\\appdata\\local\\programs\\python\\python310\\lib\\site-packages (from gradio) (0.0.12)\n",
      "Requirement already satisfied: orjson~=3.0 in c:\\users\\fenpon\\appdata\\local\\programs\\python\\python310\\lib\\site-packages (from gradio) (3.10.11)\n",
      "Requirement already satisfied: uvicorn>=0.14.0 in c:\\users\\fenpon\\appdata\\local\\programs\\python\\python310\\lib\\site-packages (from gradio) (0.32.0)\n",
      "Requirement already satisfied: ffmpy in c:\\users\\fenpon\\appdata\\local\\programs\\python\\python310\\lib\\site-packages (from gradio) (0.4.0)\n",
      "Requirement already satisfied: packaging in c:\\users\\fenpon\\appdata\\roaming\\python\\python310\\site-packages (from gradio) (24.1)\n",
      "Requirement already satisfied: ruff>=0.2.2 in c:\\users\\fenpon\\appdata\\local\\programs\\python\\python310\\lib\\site-packages (from gradio) (0.7.2)\n",
      "Requirement already satisfied: websockets<13.0,>=10.0 in c:\\users\\fenpon\\appdata\\local\\programs\\python\\python310\\lib\\site-packages (from gradio-client==1.4.2->gradio) (12.0)\n",
      "Requirement already satisfied: fsspec in c:\\users\\fenpon\\appdata\\local\\programs\\python\\python310\\lib\\site-packages (from gradio-client==1.4.2->gradio) (2024.10.0)\n",
      "Requirement already satisfied: exceptiongroup>=1.0.2 in c:\\users\\fenpon\\appdata\\roaming\\python\\python310\\site-packages (from anyio<5.0,>=3.0->gradio) (1.2.2)\n",
      "Requirement already satisfied: sniffio>=1.1 in c:\\users\\fenpon\\appdata\\local\\programs\\python\\python310\\lib\\site-packages (from anyio<5.0,>=3.0->gradio) (1.3.1)\n",
      "Requirement already satisfied: idna>=2.8 in c:\\users\\fenpon\\appdata\\local\\programs\\python\\python310\\lib\\site-packages (from anyio<5.0,>=3.0->gradio) (3.10)\n",
      "Requirement already satisfied: certifi in c:\\users\\fenpon\\appdata\\local\\programs\\python\\python310\\lib\\site-packages (from httpx>=0.24.1->gradio) (2024.8.30)\n",
      "Requirement already satisfied: httpcore==1.* in c:\\users\\fenpon\\appdata\\local\\programs\\python\\python310\\lib\\site-packages (from httpx>=0.24.1->gradio) (1.0.6)\n",
      "Requirement already satisfied: h11<0.15,>=0.13 in c:\\users\\fenpon\\appdata\\local\\programs\\python\\python310\\lib\\site-packages (from httpcore==1.*->httpx>=0.24.1->gradio) (0.14.0)\n",
      "Requirement already satisfied: requests in c:\\users\\fenpon\\appdata\\local\\programs\\python\\python310\\lib\\site-packages (from huggingface-hub>=0.25.1->gradio) (2.32.3)\n",
      "Requirement already satisfied: filelock in c:\\users\\fenpon\\appdata\\local\\programs\\python\\python310\\lib\\site-packages (from huggingface-hub>=0.25.1->gradio) (3.16.1)\n",
      "Requirement already satisfied: tqdm>=4.42.1 in c:\\users\\fenpon\\appdata\\local\\programs\\python\\python310\\lib\\site-packages (from huggingface-hub>=0.25.1->gradio) (4.67.0)\n",
      "Requirement already satisfied: python-dateutil>=2.8.2 in c:\\users\\fenpon\\appdata\\roaming\\python\\python310\\site-packages (from pandas<3.0,>=1.0->gradio) (2.9.0.post0)\n",
      "Requirement already satisfied: tzdata>=2022.7 in c:\\users\\fenpon\\appdata\\local\\programs\\python\\python310\\lib\\site-packages (from pandas<3.0,>=1.0->gradio) (2024.2)\n",
      "Requirement already satisfied: pytz>=2020.1 in c:\\users\\fenpon\\appdata\\local\\programs\\python\\python310\\lib\\site-packages (from pandas<3.0,>=1.0->gradio) (2024.2)\n",
      "Requirement already satisfied: annotated-types>=0.6.0 in c:\\users\\fenpon\\appdata\\local\\programs\\python\\python310\\lib\\site-packages (from pydantic>=2.0->gradio) (0.7.0)\n",
      "Requirement already satisfied: pydantic-core==2.23.4 in c:\\users\\fenpon\\appdata\\local\\programs\\python\\python310\\lib\\site-packages (from pydantic>=2.0->gradio) (2.23.4)\n",
      "Requirement already satisfied: six>=1.5 in c:\\users\\fenpon\\appdata\\roaming\\python\\python310\\site-packages (from python-dateutil>=2.8.2->pandas<3.0,>=1.0->gradio) (1.16.0)\n",
      "Requirement already satisfied: colorama in c:\\users\\fenpon\\appdata\\roaming\\python\\python310\\site-packages (from tqdm>=4.42.1->huggingface-hub>=0.25.1->gradio) (0.4.6)\n",
      "Requirement already satisfied: rich>=10.11.0 in c:\\users\\fenpon\\appdata\\local\\programs\\python\\python310\\lib\\site-packages (from typer<1.0,>=0.12->gradio) (13.9.4)\n",
      "Requirement already satisfied: shellingham>=1.3.0 in c:\\users\\fenpon\\appdata\\local\\programs\\python\\python310\\lib\\site-packages (from typer<1.0,>=0.12->gradio) (1.5.4)\n",
      "Requirement already satisfied: click>=8.0.0 in c:\\users\\fenpon\\appdata\\local\\programs\\python\\python310\\lib\\site-packages (from typer<1.0,>=0.12->gradio) (8.1.7)\n",
      "Requirement already satisfied: markdown-it-py>=2.2.0 in c:\\users\\fenpon\\appdata\\local\\programs\\python\\python310\\lib\\site-packages (from rich>=10.11.0->typer<1.0,>=0.12->gradio) (3.0.0)\n",
      "Requirement already satisfied: pygments<3.0.0,>=2.13.0 in c:\\users\\fenpon\\appdata\\roaming\\python\\python310\\site-packages (from rich>=10.11.0->typer<1.0,>=0.12->gradio) (2.18.0)\n",
      "Requirement already satisfied: mdurl~=0.1 in c:\\users\\fenpon\\appdata\\local\\programs\\python\\python310\\lib\\site-packages (from markdown-it-py>=2.2.0->rich>=10.11.0->typer<1.0,>=0.12->gradio) (0.1.2)\n",
      "Requirement already satisfied: charset-normalizer<4,>=2 in c:\\users\\fenpon\\appdata\\local\\programs\\python\\python310\\lib\\site-packages (from requests->huggingface-hub>=0.25.1->gradio) (3.4.0)\n",
      "Requirement already satisfied: urllib3<3,>=1.21.1 in c:\\users\\fenpon\\appdata\\local\\programs\\python\\python310\\lib\\site-packages (from requests->huggingface-hub>=0.25.1->gradio) (2.2.3)\n"
     ]
    }
   ],
   "source": [
    "pip install --upgrade gradio"
   ]
  },
  {
   "cell_type": "code",
   "execution_count": null,
   "metadata": {},
   "outputs": [],
   "source": []
  },
  {
   "cell_type": "code",
   "execution_count": null,
   "metadata": {},
   "outputs": [],
   "source": []
  },
  {
   "cell_type": "code",
   "execution_count": null,
   "metadata": {},
   "outputs": [],
   "source": []
  },
  {
   "cell_type": "code",
   "execution_count": null,
   "metadata": {},
   "outputs": [],
   "source": []
  },
  {
   "cell_type": "code",
   "execution_count": null,
   "metadata": {},
   "outputs": [],
   "source": []
  },
  {
   "cell_type": "code",
   "execution_count": null,
   "metadata": {},
   "outputs": [],
   "source": []
  }
 ],
 "metadata": {
  "kernelspec": {
   "display_name": "Python 3",
   "language": "python",
   "name": "python3"
  },
  "language_info": {
   "codemirror_mode": {
    "name": "ipython",
    "version": 3
   },
   "file_extension": ".py",
   "mimetype": "text/x-python",
   "name": "python",
   "nbconvert_exporter": "python",
   "pygments_lexer": "ipython3",
   "version": "3.10.0"
  }
 },
 "nbformat": 4,
 "nbformat_minor": 2
}
