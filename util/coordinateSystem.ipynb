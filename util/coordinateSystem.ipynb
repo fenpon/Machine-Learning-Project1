{
 "cells": [
  {
   "cell_type": "code",
   "execution_count": 27,
   "metadata": {},
   "outputs": [
    {
     "name": "stdout",
     "output_type": "stream",
     "text": [
      "Requirement already satisfied: requests in c:\\users\\fenpon\\appdata\\local\\programs\\python\\python310\\lib\\site-packages (2.32.3)Note: you may need to restart the kernel to use updated packages.\n",
      "\n",
      "Requirement already satisfied: urllib3<3,>=1.21.1 in c:\\users\\fenpon\\appdata\\local\\programs\\python\\python310\\lib\\site-packages (from requests) (2.2.3)\n",
      "Requirement already satisfied: charset-normalizer<4,>=2 in c:\\users\\fenpon\\appdata\\local\\programs\\python\\python310\\lib\\site-packages (from requests) (3.4.0)\n",
      "Requirement already satisfied: idna<4,>=2.5 in c:\\users\\fenpon\\appdata\\local\\programs\\python\\python310\\lib\\site-packages (from requests) (3.10)\n",
      "Requirement already satisfied: certifi>=2017.4.17 in c:\\users\\fenpon\\appdata\\local\\programs\\python\\python310\\lib\\site-packages (from requests) (2024.8.30)\n"
     ]
    },
    {
     "name": "stderr",
     "output_type": "stream",
     "text": [
      "WARNING: You are using pip version 21.2.3; however, version 24.3.1 is available.\n",
      "You should consider upgrading via the 'c:\\Users\\fenpon\\AppData\\Local\\Programs\\Python\\Python310\\python.exe -m pip install --upgrade pip' command.\n"
     ]
    }
   ],
   "source": [
    "%pip install requests"
   ]
  },
  {
   "cell_type": "code",
   "execution_count": 28,
   "metadata": {},
   "outputs": [],
   "source": [
    "import re\n",
    "import pandas as pd\n",
    "import requests\n"
   ]
  },
  {
   "cell_type": "code",
   "execution_count": 29,
   "metadata": {},
   "outputs": [],
   "source": [
    "\n",
    "\n",
    "def get_coordinates_kakao(address, api_key):\n",
    "    url = \"https://dapi.kakao.com/v2/local/search/address.json\"\n",
    "    headers = {\"Authorization\": f\"KakaoAK {api_key}\"}\n",
    "    params = {\"query\": address}\n",
    "    \n",
    "    response = requests.get(url, headers=headers, params=params)\n",
    "    \n",
    "    if response.status_code == 200:\n",
    "        result = response.json()\n",
    "        if result[\"documents\"]:\n",
    "            location = result[\"documents\"][0][\"address\"]\n",
    "            if location is None:\n",
    "                return None, None\n",
    "            return float(location[\"y\"]), float(location[\"x\"])  # 위도, 경도 반환\n",
    "        else:\n",
    "            print(f\"해당 주소에 대한 좌표 정보를 찾을 수 없습니다. {address}\")\n",
    "            return None, None\n",
    "    else:\n",
    "        print( f\"에러 발생: {response.status_code}\")\n",
    "        return None, None\n"
   ]
  },
  {
   "cell_type": "code",
   "execution_count": 30,
   "metadata": {},
   "outputs": [
    {
     "name": "stdout",
     "output_type": "stream",
     "text": [
      "0               서울특별시 중구  을지로 234\n",
      "1             서울특별시 중구  퇴계로 375-1\n",
      "2      서울특별시 중구  동호로 5길 15, 약수지구대\n",
      "3              서울특별시 중구  다산로 248 \n",
      "4               서울특별시 중구  동호로 261\n",
      "                  ...            \n",
      "238            서울특별시 강남구  삼성로 203\n",
      "239          서울특별시 강남구  밤고개로1길 48\n",
      "240            서울특별시 강남구  헌릉로 623\n",
      "241     서울특별시 강남구  일원로3길 35 일원파출소\n",
      "242            서울특별시 강남구  개포로 261\n",
      "Name: 주소, Length: 243, dtype: object\n"
     ]
    }
   ],
   "source": [
    "#병원 점수 예측 데이터\n",
    "trainedHospital = pd.read_csv('../export/safety/policeFacilities.csv')\n",
    "\n",
    "\n",
    "# 주소 컬럼에서 괄호 안의 내용과 괄호를 제거\n",
    "trainedHospital['주소'] = trainedHospital['주소'].str.replace(r'\\(.*?\\)', '', regex=True)\n",
    "\n",
    "# 결과 출력\n",
    "print(trainedHospital['주소'])"
   ]
  },
  {
   "cell_type": "code",
   "execution_count": 31,
   "metadata": {},
   "outputs": [
    {
     "name": "stdout",
     "output_type": "stream",
     "text": [
      "---  101   :  0\n",
      "---  101   :  1\n"
     ]
    }
   ],
   "source": [
    "\n",
    "\n",
    "\n",
    "\n",
    "block = 0\n",
    "le = 0\n",
    "# 사용 예제\n",
    "\n",
    "\n",
    "for i in range(len(trainedHospital)):\n",
    "    address = trainedHospital.iloc[i]['주소']\n",
    "    address = address.split(' ')\n",
    "    address = ' '.join(address[:4])\n",
    "    coord = get_coordinates_kakao(address,'a4fef1a0b1958ed22e57f606e5fad553')\n",
    "    trainedHospital.at[i,'lat'] = coord[0]\n",
    "    trainedHospital.at[i,'lon'] = coord[1]\n",
    "\n",
    "    block += 1\n",
    "    if block > 100:\n",
    "        print(\"--- \" ,block , \"  : \",le)\n",
    "        block = 0\n",
    "        le += 1"
   ]
  },
  {
   "cell_type": "code",
   "execution_count": 32,
   "metadata": {},
   "outputs": [],
   "source": [
    "trainedHospital.to_csv('../export/safety/policeFacilityOutput.csv', index=False, encoding='utf-8') \n"
   ]
  }
 ],
 "metadata": {
  "kernelspec": {
   "display_name": "Python 3",
   "language": "python",
   "name": "python3"
  },
  "language_info": {
   "codemirror_mode": {
    "name": "ipython",
    "version": 3
   },
   "file_extension": ".py",
   "mimetype": "text/x-python",
   "name": "python",
   "nbconvert_exporter": "python",
   "pygments_lexer": "ipython3",
   "version": "3.10.0"
  }
 },
 "nbformat": 4,
 "nbformat_minor": 2
}
