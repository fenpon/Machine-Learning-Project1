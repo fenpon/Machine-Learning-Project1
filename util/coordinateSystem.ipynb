{
 "cells": [
  {
   "cell_type": "code",
   "execution_count": 27,
   "metadata": {},
   "outputs": [
    {
     "name": "stdout",
     "output_type": "stream",
     "text": [
      "Requirement already satisfied: requests in c:\\users\\fenpon\\appdata\\local\\programs\\python\\python310\\lib\\site-packages (2.32.3)Note: you may need to restart the kernel to use updated packages.\n",
      "\n",
      "Requirement already satisfied: urllib3<3,>=1.21.1 in c:\\users\\fenpon\\appdata\\local\\programs\\python\\python310\\lib\\site-packages (from requests) (2.2.3)\n",
      "Requirement already satisfied: charset-normalizer<4,>=2 in c:\\users\\fenpon\\appdata\\local\\programs\\python\\python310\\lib\\site-packages (from requests) (3.4.0)\n",
      "Requirement already satisfied: idna<4,>=2.5 in c:\\users\\fenpon\\appdata\\local\\programs\\python\\python310\\lib\\site-packages (from requests) (3.10)\n",
      "Requirement already satisfied: certifi>=2017.4.17 in c:\\users\\fenpon\\appdata\\local\\programs\\python\\python310\\lib\\site-packages (from requests) (2024.8.30)\n"
     ]
    },
    {
     "name": "stderr",
     "output_type": "stream",
     "text": [
      "WARNING: You are using pip version 21.2.3; however, version 24.3.1 is available.\n",
      "You should consider upgrading via the 'c:\\Users\\fenpon\\AppData\\Local\\Programs\\Python\\Python310\\python.exe -m pip install --upgrade pip' command.\n"
     ]
    }
   ],
   "source": [
    "%pip install requests"
   ]
  },
  {
   "cell_type": "code",
   "execution_count": 32,
   "metadata": {},
   "outputs": [],
   "source": [
    "import re\n",
    "import pandas as pd\n",
    "import requests\n"
   ]
  },
  {
   "cell_type": "code",
   "execution_count": 62,
   "metadata": {},
   "outputs": [],
   "source": [
    "\n",
    "\n",
    "def get_coordinates_kakao(address, api_key):\n",
    "    url = \"https://dapi.kakao.com/v2/local/search/address.json\"\n",
    "    headers = {\"Authorization\": f\"KakaoAK {api_key}\"}\n",
    "    params = {\"query\": address}\n",
    "    \n",
    "    response = requests.get(url, headers=headers, params=params)\n",
    "    \n",
    "    if response.status_code == 200:\n",
    "        result = response.json()\n",
    "        if result[\"documents\"]:\n",
    "            location = result[\"documents\"][0][\"address\"]\n",
    "            if location is None:\n",
    "                return None, None\n",
    "            return float(location[\"y\"]), float(location[\"x\"])  # 위도, 경도 반환\n",
    "        else:\n",
    "            print(f\"해당 주소에 대한 좌표 정보를 찾을 수 없습니다. {address}\")\n",
    "            return None, None\n",
    "    else:\n",
    "        print( f\"에러 발생: {response.status_code}\")\n",
    "        return None, None\n"
   ]
  },
  {
   "cell_type": "code",
   "execution_count": 64,
   "metadata": {},
   "outputs": [
    {
     "data": {
      "text/html": [
       "<div>\n",
       "<style scoped>\n",
       "    .dataframe tbody tr th:only-of-type {\n",
       "        vertical-align: middle;\n",
       "    }\n",
       "\n",
       "    .dataframe tbody tr th {\n",
       "        vertical-align: top;\n",
       "    }\n",
       "\n",
       "    .dataframe thead th {\n",
       "        text-align: right;\n",
       "    }\n",
       "</style>\n",
       "<table border=\"1\" class=\"dataframe\">\n",
       "  <thead>\n",
       "    <tr style=\"text-align: right;\">\n",
       "      <th></th>\n",
       "      <th>구분</th>\n",
       "      <th>주소</th>\n",
       "      <th>이름</th>\n",
       "    </tr>\n",
       "  </thead>\n",
       "  <tbody>\n",
       "    <tr>\n",
       "      <th>0</th>\n",
       "      <td>1</td>\n",
       "      <td>서울특별시 중구  을지로 234</td>\n",
       "      <td>서울중부 을지</td>\n",
       "    </tr>\n",
       "    <tr>\n",
       "      <th>1</th>\n",
       "      <td>1</td>\n",
       "      <td>서울특별시 중구  퇴계로 375-1</td>\n",
       "      <td>서울중부 광희</td>\n",
       "    </tr>\n",
       "    <tr>\n",
       "      <th>2</th>\n",
       "      <td>1</td>\n",
       "      <td>서울특별시 중구  동호로 5길 15, 약수지구대</td>\n",
       "      <td>서울중부 약수</td>\n",
       "    </tr>\n",
       "    <tr>\n",
       "      <th>3</th>\n",
       "      <td>2</td>\n",
       "      <td>서울특별시 중구  다산로 248</td>\n",
       "      <td>서울중부 신당</td>\n",
       "    </tr>\n",
       "    <tr>\n",
       "      <th>4</th>\n",
       "      <td>2</td>\n",
       "      <td>서울특별시 중구  동호로 261</td>\n",
       "      <td>서울중부 장충</td>\n",
       "    </tr>\n",
       "  </tbody>\n",
       "</table>\n",
       "</div>"
      ],
      "text/plain": [
       "   구분                          주소       이름\n",
       "0   1           서울특별시 중구  을지로 234  서울중부 을지\n",
       "1   1         서울특별시 중구  퇴계로 375-1  서울중부 광희\n",
       "2   1  서울특별시 중구  동호로 5길 15, 약수지구대  서울중부 약수\n",
       "3   2          서울특별시 중구  다산로 248   서울중부 신당\n",
       "4   2           서울특별시 중구  동호로 261  서울중부 장충"
      ]
     },
     "execution_count": 64,
     "metadata": {},
     "output_type": "execute_result"
    }
   ],
   "source": [
    "#병원 점수 예측 데이터\n",
    "trainedHospital = pd.read_csv('../export/safety/policeFacilities.csv')\n",
    "\n",
    "\n",
    "# 주소 컬럼에서 괄호 안의 내용과 괄호를 제거\n",
    "trainedHospital['주소'] = trainedHospital['주소'].str.replace(r'\\(.*?\\)', '', regex=True)\n",
    "\n",
    "# 결과 출\n",
    "trainedHospital.head()"
   ]
  },
  {
   "cell_type": "code",
   "execution_count": 65,
   "metadata": {},
   "outputs": [
    {
     "name": "stdout",
     "output_type": "stream",
     "text": [
      "---  101   :  0\n",
      "---  101   :  1\n"
     ]
    }
   ],
   "source": [
    "\n",
    "\n",
    "\n",
    "\n",
    "block = 0\n",
    "le = 0\n",
    "# 사용 예제\n",
    "\n",
    "\n",
    "for i in range(len(trainedHospital)):\n",
    "    address = trainedHospital.iloc[i]['주소']\n",
    "    address = address.split(' ')\n",
    "    address = ' '.join(address[:4])\n",
    "    coord = get_coordinates_kakao(address,'a4fef1a0b1958ed22e57f606e5fad553')\n",
    "    trainedHospital.at[i,'lat'] = coord[0]\n",
    "    trainedHospital.at[i,'lon'] = coord[1]\n",
    "\n",
    "    block += 1\n",
    "    if block > 100:\n",
    "        print(\"--- \" ,block , \"  : \",le)\n",
    "        block = 0\n",
    "        le += 1"
   ]
  },
  {
   "cell_type": "code",
   "execution_count": 66,
   "metadata": {},
   "outputs": [
    {
     "data": {
      "text/html": [
       "<div>\n",
       "<style scoped>\n",
       "    .dataframe tbody tr th:only-of-type {\n",
       "        vertical-align: middle;\n",
       "    }\n",
       "\n",
       "    .dataframe tbody tr th {\n",
       "        vertical-align: top;\n",
       "    }\n",
       "\n",
       "    .dataframe thead th {\n",
       "        text-align: right;\n",
       "    }\n",
       "</style>\n",
       "<table border=\"1\" class=\"dataframe\">\n",
       "  <thead>\n",
       "    <tr style=\"text-align: right;\">\n",
       "      <th></th>\n",
       "      <th>구분</th>\n",
       "      <th>주소</th>\n",
       "      <th>이름</th>\n",
       "      <th>lat</th>\n",
       "      <th>lon</th>\n",
       "    </tr>\n",
       "  </thead>\n",
       "  <tbody>\n",
       "    <tr>\n",
       "      <th>0</th>\n",
       "      <td>1</td>\n",
       "      <td>서울특별시 중구  을지로 234</td>\n",
       "      <td>서울중부 을지</td>\n",
       "      <td>None</td>\n",
       "      <td>None</td>\n",
       "    </tr>\n",
       "    <tr>\n",
       "      <th>1</th>\n",
       "      <td>1</td>\n",
       "      <td>서울특별시 중구  퇴계로 375-1</td>\n",
       "      <td>서울중부 광희</td>\n",
       "      <td>None</td>\n",
       "      <td>None</td>\n",
       "    </tr>\n",
       "    <tr>\n",
       "      <th>2</th>\n",
       "      <td>1</td>\n",
       "      <td>서울특별시 중구  동호로 5길 15, 약수지구대</td>\n",
       "      <td>서울중부 약수</td>\n",
       "      <td>None</td>\n",
       "      <td>None</td>\n",
       "    </tr>\n",
       "    <tr>\n",
       "      <th>3</th>\n",
       "      <td>2</td>\n",
       "      <td>서울특별시 중구  다산로 248</td>\n",
       "      <td>서울중부 신당</td>\n",
       "      <td>None</td>\n",
       "      <td>None</td>\n",
       "    </tr>\n",
       "    <tr>\n",
       "      <th>4</th>\n",
       "      <td>2</td>\n",
       "      <td>서울특별시 중구  동호로 261</td>\n",
       "      <td>서울중부 장충</td>\n",
       "      <td>None</td>\n",
       "      <td>None</td>\n",
       "    </tr>\n",
       "    <tr>\n",
       "      <th>...</th>\n",
       "      <td>...</td>\n",
       "      <td>...</td>\n",
       "      <td>...</td>\n",
       "      <td>...</td>\n",
       "      <td>...</td>\n",
       "    </tr>\n",
       "    <tr>\n",
       "      <th>238</th>\n",
       "      <td>1</td>\n",
       "      <td>서울특별시 강남구  삼성로 203</td>\n",
       "      <td>서울수서 대치</td>\n",
       "      <td>None</td>\n",
       "      <td>None</td>\n",
       "    </tr>\n",
       "    <tr>\n",
       "      <th>239</th>\n",
       "      <td>2</td>\n",
       "      <td>서울특별시 강남구  밤고개로1길 48</td>\n",
       "      <td>서울수서 수서</td>\n",
       "      <td>None</td>\n",
       "      <td>None</td>\n",
       "    </tr>\n",
       "    <tr>\n",
       "      <th>240</th>\n",
       "      <td>2</td>\n",
       "      <td>서울특별시 강남구  헌릉로 623</td>\n",
       "      <td>서울수서 대왕</td>\n",
       "      <td>None</td>\n",
       "      <td>None</td>\n",
       "    </tr>\n",
       "    <tr>\n",
       "      <th>241</th>\n",
       "      <td>1</td>\n",
       "      <td>서울특별시 강남구  일원로3길 35 일원파출소</td>\n",
       "      <td>서울수서 일원</td>\n",
       "      <td>None</td>\n",
       "      <td>None</td>\n",
       "    </tr>\n",
       "    <tr>\n",
       "      <th>242</th>\n",
       "      <td>1</td>\n",
       "      <td>서울특별시 강남구  개포로 261</td>\n",
       "      <td>서울수서 개포</td>\n",
       "      <td>None</td>\n",
       "      <td>None</td>\n",
       "    </tr>\n",
       "  </tbody>\n",
       "</table>\n",
       "<p>243 rows × 5 columns</p>\n",
       "</div>"
      ],
      "text/plain": [
       "     구분                          주소       이름   lat   lon\n",
       "0     1           서울특별시 중구  을지로 234  서울중부 을지  None  None\n",
       "1     1         서울특별시 중구  퇴계로 375-1  서울중부 광희  None  None\n",
       "2     1  서울특별시 중구  동호로 5길 15, 약수지구대  서울중부 약수  None  None\n",
       "3     2          서울특별시 중구  다산로 248   서울중부 신당  None  None\n",
       "4     2           서울특별시 중구  동호로 261  서울중부 장충  None  None\n",
       "..   ..                         ...      ...   ...   ...\n",
       "238   1          서울특별시 강남구  삼성로 203  서울수서 대치  None  None\n",
       "239   2        서울특별시 강남구  밤고개로1길 48  서울수서 수서  None  None\n",
       "240   2          서울특별시 강남구  헌릉로 623  서울수서 대왕  None  None\n",
       "241   1   서울특별시 강남구  일원로3길 35 일원파출소  서울수서 일원  None  None\n",
       "242   1          서울특별시 강남구  개포로 261  서울수서 개포  None  None\n",
       "\n",
       "[243 rows x 5 columns]"
      ]
     },
     "execution_count": 66,
     "metadata": {},
     "output_type": "execute_result"
    }
   ],
   "source": [
    "trainedHospital"
   ]
  },
  {
   "cell_type": "code",
   "execution_count": 46,
   "metadata": {},
   "outputs": [],
   "source": [
    "trainedHospital.to_csv('../export/safety/policeOutput.csv', index=False, encoding='utf-8') \n"
   ]
  }
 ],
 "metadata": {
  "kernelspec": {
   "display_name": "Python 3",
   "language": "python",
   "name": "python3"
  },
  "language_info": {
   "codemirror_mode": {
    "name": "ipython",
    "version": 3
   },
   "file_extension": ".py",
   "mimetype": "text/x-python",
   "name": "python",
   "nbconvert_exporter": "python",
   "pygments_lexer": "ipython3",
   "version": "3.10.0"
  }
 },
 "nbformat": 4,
 "nbformat_minor": 2
}
