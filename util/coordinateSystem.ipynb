{
 "cells": [
  {
   "cell_type": "code",
   "execution_count": 1,
   "metadata": {},
   "outputs": [
    {
     "name": "stdout",
     "output_type": "stream",
     "text": [
      "Requirement already satisfied: requests in c:\\users\\fenpon\\appdata\\local\\programs\\python\\python310\\lib\\site-packages (2.32.3)Note: you may need to restart the kernel to use updated packages.\n",
      "\n",
      "Requirement already satisfied: idna<4,>=2.5 in c:\\users\\fenpon\\appdata\\local\\programs\\python\\python310\\lib\\site-packages (from requests) (3.10)\n",
      "Requirement already satisfied: urllib3<3,>=1.21.1 in c:\\users\\fenpon\\appdata\\local\\programs\\python\\python310\\lib\\site-packages (from requests) (2.2.3)\n",
      "Requirement already satisfied: charset-normalizer<4,>=2 in c:\\users\\fenpon\\appdata\\local\\programs\\python\\python310\\lib\\site-packages (from requests) (3.4.0)\n",
      "Requirement already satisfied: certifi>=2017.4.17 in c:\\users\\fenpon\\appdata\\local\\programs\\python\\python310\\lib\\site-packages (from requests) (2024.8.30)\n"
     ]
    },
    {
     "name": "stderr",
     "output_type": "stream",
     "text": [
      "WARNING: You are using pip version 21.2.3; however, version 24.3.1 is available.\n",
      "You should consider upgrading via the 'c:\\Users\\fenpon\\AppData\\Local\\Programs\\Python\\Python310\\python.exe -m pip install --upgrade pip' command.\n"
     ]
    }
   ],
   "source": [
    "%pip install requests"
   ]
  },
  {
   "cell_type": "code",
   "execution_count": 3,
   "metadata": {},
   "outputs": [],
   "source": [
    "import re\n",
    "import pandas as pd\n",
    "import requests\n"
   ]
  },
  {
   "cell_type": "code",
   "execution_count": 10,
   "metadata": {},
   "outputs": [],
   "source": [
    "\n",
    "\n",
    "def get_coordinates_kakao(address, api_key):\n",
    "    url = \"https://dapi.kakao.com/v2/local/search/address.json\"\n",
    "    headers = {\"Authorization\": f\"KakaoAK {api_key}\"}\n",
    "    params = {\"query\": address}\n",
    "    \n",
    "    response = requests.get(url, headers=headers, params=params)\n",
    "    \n",
    "    if response.status_code == 200:\n",
    "        result = response.json()\n",
    "        if result[\"documents\"]:\n",
    "            location = result[\"documents\"][0][\"address\"]\n",
    "            if location is None:\n",
    "                return None, None\n",
    "            return float(location[\"y\"]), float(location[\"x\"])  # 위도, 경도 반환\n",
    "        else:\n",
    "            print(f\"해당 주소에 대한 좌표 정보를 찾을 수 없습니다. {address}\")\n",
    "            return None, None\n",
    "    else:\n",
    "        print( f\"에러 발생: {response.status_code}\")\n",
    "        return None, None\n"
   ]
  },
  {
   "cell_type": "code",
   "execution_count": 11,
   "metadata": {},
   "outputs": [
    {
     "name": "stdout",
     "output_type": "stream",
     "text": [
      "0                     서울특별시 동대문구 경희대로 23 \n",
      "1                   서울특별시 성동구 왕십리로 222-1 \n",
      "2                서울특별시 성북구 고려대로 73 고려대병원 \n",
      "3                      서울특별시 종로구 새문안로 29 \n",
      "4                     서울특별시 서초구 반포대로 222 \n",
      "                      ...                \n",
      "1860       서울특별시 강남구 도산대로 235, 평화빌딩 2,3층 \n",
      "1861    서울특별시 양천구 목동중앙북로 68, 2층 201~216호 \n",
      "1862         서울특별시 서초구 서초대로 351, B1,4~8층 \n",
      "1863           서울특별시 중랑구 동일로 872, 지하1~6층 \n",
      "1864          서울특별시 강남구 강남대로 518, 3층, 4층 \n",
      "Name: 주소, Length: 1865, dtype: object\n"
     ]
    }
   ],
   "source": [
    "#병원 점수 예측 데이터\n",
    "trainedHospital = pd.read_csv('../export/hospital/2021_2024_09_trainDatas.csv')\n",
    "\n",
    "# 주소 컬럼에서 괄호 안의 내용과 괄호를 제거\n",
    "trainedHospital['주소'] = trainedHospital['주소'].str.replace(r'\\(.*?\\)', '', regex=True)\n",
    "\n",
    "# 결과 출력\n",
    "print(trainedHospital['주소'])"
   ]
  },
  {
   "cell_type": "code",
   "execution_count": null,
   "metadata": {},
   "outputs": [
    {
     "name": "stdout",
     "output_type": "stream",
     "text": [
      "해당 주소에 대한 좌표 정보를 찾을 수 없습니다. 서울특별시 성북구 안암로 99-99\n",
      "---  101   :  0\n",
      "해당 주소에 대한 좌표 정보를 찾을 수 없습니다. 서울특별시 강남구 논현로 507-507\n",
      "---  101   :  1\n",
      "해당 주소에 대한 좌표 정보를 찾을 수 없습니다. 서울특별시 성북구 동소문로 306-306\n",
      "해당 주소에 대한 좌표 정보를 찾을 수 없습니다. 서울특별시 도봉구 삼양로 606-606\n",
      "---  101   :  2\n",
      "---  101   :  3\n",
      "해당 주소에 대한 좌표 정보를 찾을 수 없습니다. 서울특별시 성북구 안암로 99-99\n",
      "---  101   :  4\n",
      "해당 주소에 대한 좌표 정보를 찾을 수 없습니다. 서울특별시 성북구 동소문로 306-306\n",
      "---  101   :  5\n",
      "---  101   :  6\n",
      "해당 주소에 대한 좌표 정보를 찾을 수 없습니다. 서울특별시 성북구 안암로 99-99,\n",
      "---  101   :  7\n",
      "해당 주소에 대한 좌표 정보를 찾을 수 없습니다. 서울특별시 성북구 동소문로 306-306,\n",
      "---  101   :  8\n",
      "---  101   :  9\n",
      "해당 주소에 대한 좌표 정보를 찾을 수 없습니다. 서울특별시 성북구 안암로 99-99,\n",
      "---  101   :  10\n",
      "해당 주소에 대한 좌표 정보를 찾을 수 없습니다. 서울특별시 성북구 동소문로 306-306,\n",
      "---  101   :  11\n",
      "---  101   :  12\n",
      "---  101   :  13\n",
      "해당 주소에 대한 좌표 정보를 찾을 수 없습니다. 서울특별시 성북구 동소문로 306-306,\n",
      "---  101   :  14\n",
      "---  101   :  15\n",
      "---  101   :  16\n",
      "---  101   :  17\n"
     ]
    }
   ],
   "source": [
    "\n",
    "\n",
    "\n",
    "\n",
    "block = 0\n",
    "le = 0\n",
    "# 사용 예제\n",
    "\n",
    "\n",
    "for i in range(len(trainedHospital)):\n",
    "    address = trainedHospital.iloc[i]['주소']\n",
    "    address = address.split(' ')\n",
    "    address = ' '.join(address[:4])\n",
    "    coord = get_coordinates_kakao(address,'api key')\n",
    "    trainedHospital.at[i,'lat'] = coord[0]\n",
    "    trainedHospital.at[i,'lon'] = coord[1]\n",
    "\n",
    "    block += 1\n",
    "    if block > 100:\n",
    "        print(\"--- \" ,block , \"  : \",le)\n",
    "        block = 0\n",
    "        le += 1"
   ]
  },
  {
   "cell_type": "code",
   "execution_count": 13,
   "metadata": {},
   "outputs": [],
   "source": [
    "trainedHospital.to_csv('../export/hospital/hospitalOutput.csv', index=False, encoding='utf-8') \n"
   ]
  }
 ],
 "metadata": {
  "kernelspec": {
   "display_name": "Python 3",
   "language": "python",
   "name": "python3"
  },
  "language_info": {
   "codemirror_mode": {
    "name": "ipython",
    "version": 3
   },
   "file_extension": ".py",
   "mimetype": "text/x-python",
   "name": "python",
   "nbconvert_exporter": "python",
   "pygments_lexer": "ipython3",
   "version": "3.10.0"
  }
 },
 "nbformat": 4,
 "nbformat_minor": 2
}
