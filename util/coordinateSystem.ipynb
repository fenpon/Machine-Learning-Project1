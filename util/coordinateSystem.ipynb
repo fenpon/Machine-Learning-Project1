{
 "cells": [
  {
   "cell_type": "code",
   "execution_count": 1,
   "metadata": {},
   "outputs": [
    {
     "name": "stdout",
     "output_type": "stream",
     "text": [
      "Requirement already satisfied: requests in c:\\users\\fenpon\\appdata\\local\\programs\\python\\python310\\lib\\site-packages (2.32.3)Note: you may need to restart the kernel to use updated packages.\n",
      "\n",
      "Requirement already satisfied: idna<4,>=2.5 in c:\\users\\fenpon\\appdata\\local\\programs\\python\\python310\\lib\\site-packages (from requests) (3.10)\n",
      "Requirement already satisfied: urllib3<3,>=1.21.1 in c:\\users\\fenpon\\appdata\\local\\programs\\python\\python310\\lib\\site-packages (from requests) (2.2.3)\n",
      "Requirement already satisfied: charset-normalizer<4,>=2 in c:\\users\\fenpon\\appdata\\local\\programs\\python\\python310\\lib\\site-packages (from requests) (3.4.0)\n",
      "Requirement already satisfied: certifi>=2017.4.17 in c:\\users\\fenpon\\appdata\\local\\programs\\python\\python310\\lib\\site-packages (from requests) (2024.8.30)\n"
     ]
    },
    {
     "name": "stderr",
     "output_type": "stream",
     "text": [
      "WARNING: You are using pip version 21.2.3; however, version 24.3.1 is available.\n",
      "You should consider upgrading via the 'c:\\Users\\fenpon\\AppData\\Local\\Programs\\Python\\Python310\\python.exe -m pip install --upgrade pip' command.\n"
     ]
    }
   ],
   "source": [
    "%pip install requests"
   ]
  },
  {
   "cell_type": "code",
   "execution_count": 8,
   "metadata": {},
   "outputs": [],
   "source": [
    "import re\n",
    "import pandas as pd\n",
    "import requests\n"
   ]
  },
  {
   "cell_type": "code",
   "execution_count": 9,
   "metadata": {},
   "outputs": [],
   "source": [
    "\n",
    "\n",
    "def get_coordinates_kakao(address, api_key):\n",
    "    url = \"https://dapi.kakao.com/v2/local/search/address.json\"\n",
    "    headers = {\"Authorization\": f\"KakaoAK {api_key}\"}\n",
    "    params = {\"query\": address}\n",
    "    \n",
    "    response = requests.get(url, headers=headers, params=params)\n",
    "    \n",
    "    if response.status_code == 200:\n",
    "        result = response.json()\n",
    "        if result[\"documents\"]:\n",
    "            location = result[\"documents\"][0][\"address\"]\n",
    "            return float(location[\"y\"]), float(location[\"x\"])  # 위도, 경도 반환\n",
    "        else:\n",
    "            print(f\"해당 주소에 대한 좌표 정보를 찾을 수 없습니다. {address}\")\n",
    "            return None, None\n",
    "    else:\n",
    "        print( f\"에러 발생: {response.status_code}\")\n",
    "        return None, None\n"
   ]
  },
  {
   "cell_type": "code",
   "execution_count": null,
   "metadata": {},
   "outputs": [
    {
     "name": "stdout",
     "output_type": "stream",
     "text": [
      "해당 주소에 대한 좌표 정보를 찾을 수 없습니다. 서울특별시 성북구 안암로 99-99\n",
      "---  101   :  0\n",
      "해당 주소에 대한 좌표 정보를 찾을 수 없습니다. 서울특별시 강남구 논현로 507-507\n",
      "---  101   :  1\n",
      "해당 주소에 대한 좌표 정보를 찾을 수 없습니다. 서울특별시 성북구 동소문로 306-306\n",
      "해당 주소에 대한 좌표 정보를 찾을 수 없습니다. 서울특별시 도봉구 삼양로 606-606\n",
      "---  101   :  2\n",
      "---  101   :  3\n",
      "해당 주소에 대한 좌표 정보를 찾을 수 없습니다. 서울특별시 성북구 안암로 99-99\n",
      "---  101   :  4\n",
      "해당 주소에 대한 좌표 정보를 찾을 수 없습니다. 서울특별시 성북구 동소문로 306-306\n",
      "---  101   :  5\n",
      "---  101   :  6\n",
      "해당 주소에 대한 좌표 정보를 찾을 수 없습니다. 서울특별시 성북구 안암로 99-99,\n",
      "---  101   :  7\n",
      "해당 주소에 대한 좌표 정보를 찾을 수 없습니다. 서울특별시 성북구 동소문로 306-306,\n",
      "---  101   :  8\n",
      "---  101   :  9\n",
      "해당 주소에 대한 좌표 정보를 찾을 수 없습니다. 서울특별시 성북구 안암로 99-99,\n",
      "---  101   :  10\n",
      "해당 주소에 대한 좌표 정보를 찾을 수 없습니다. 서울특별시 성북구 동소문로 306-306,\n",
      "---  101   :  11\n",
      "---  101   :  12\n",
      "---  101   :  13\n",
      "해당 주소에 대한 좌표 정보를 찾을 수 없습니다. 서울특별시 성북구 동소문로 306-306,\n",
      "---  101   :  14\n",
      "---  101   :  15\n",
      "---  101   :  16\n",
      "---  101   :  17\n"
     ]
    }
   ],
   "source": [
    "\n",
    "#병원 점수 예측 데이터\n",
    "trainedHospital = pd.read_csv('../export/hospital/2021_2024_09_trainDatas.csv')\n",
    "\n",
    "\n",
    "block = 0\n",
    "le = 0\n",
    "# 사용 예제\n",
    "\n",
    "\n",
    "for i in range(len(trainedHospital)):\n",
    "    address = trainedHospital.iloc[i]['주소']\n",
    "    address = address.split(' ')\n",
    "    address = ' '.join(address[:4])\n",
    "    coord = get_coordinates_kakao(address,'your key')\n",
    "    trainedHospital.at[i,'lat'] = coord[0]\n",
    "    trainedHospital.at[i,'lon'] = coord[1]\n",
    "\n",
    "    block += 1\n",
    "    if block > 100:\n",
    "        print(\"--- \" ,block , \"  : \",le)\n",
    "        block = 0\n",
    "        le += 1"
   ]
  },
  {
   "cell_type": "code",
   "execution_count": 11,
   "metadata": {},
   "outputs": [],
   "source": [
    "trainedHospital.to_csv('../export/hospital/2021_2024_09_trainDatas.csv', index=False, encoding='utf-8') "
   ]
  }
 ],
 "metadata": {
  "kernelspec": {
   "display_name": "Python 3",
   "language": "python",
   "name": "python3"
  },
  "language_info": {
   "codemirror_mode": {
    "name": "ipython",
    "version": 3
   },
   "file_extension": ".py",
   "mimetype": "text/x-python",
   "name": "python",
   "nbconvert_exporter": "python",
   "pygments_lexer": "ipython3",
   "version": "3.10.0"
  }
 },
 "nbformat": 4,
 "nbformat_minor": 2
}
